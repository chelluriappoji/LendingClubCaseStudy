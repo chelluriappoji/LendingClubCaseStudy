{
 "cells": [
  {
   "cell_type": "markdown",
   "id": "7a5627e5",
   "metadata": {},
   "source": [
    "# Import required modules"
   ]
  },
  {
   "cell_type": "code",
   "execution_count": 315,
   "id": "4efc3113",
   "metadata": {},
   "outputs": [],
   "source": [
    "import pandas as pd\n",
    "import seaborn as sns\n",
    "from datetime import datetime\n",
    "import numpy as np\n",
    "import matplotlib.pyplot as plt"
   ]
  },
  {
   "cell_type": "markdown",
   "id": "7c42c685",
   "metadata": {},
   "source": [
    "# 1. Read the loan.csv file"
   ]
  },
  {
   "cell_type": "code",
   "execution_count": 144,
   "id": "ada23387",
   "metadata": {},
   "outputs": [
    {
     "name": "stderr",
     "output_type": "stream",
     "text": [
      "C:\\Program Files\\Anaconda3\\lib\\site-packages\\IPython\\core\\interactiveshell.py:3444: DtypeWarning: Columns (47) have mixed types.Specify dtype option on import or set low_memory=False.\n",
      "  exec(code_obj, self.user_global_ns, self.user_ns)\n"
     ]
    },
    {
     "data": {
      "text/html": [
       "<div>\n",
       "<style scoped>\n",
       "    .dataframe tbody tr th:only-of-type {\n",
       "        vertical-align: middle;\n",
       "    }\n",
       "\n",
       "    .dataframe tbody tr th {\n",
       "        vertical-align: top;\n",
       "    }\n",
       "\n",
       "    .dataframe thead th {\n",
       "        text-align: right;\n",
       "    }\n",
       "</style>\n",
       "<table border=\"1\" class=\"dataframe\">\n",
       "  <thead>\n",
       "    <tr style=\"text-align: right;\">\n",
       "      <th></th>\n",
       "      <th>id</th>\n",
       "      <th>member_id</th>\n",
       "      <th>loan_amnt</th>\n",
       "      <th>funded_amnt</th>\n",
       "      <th>funded_amnt_inv</th>\n",
       "      <th>term</th>\n",
       "      <th>int_rate</th>\n",
       "      <th>installment</th>\n",
       "      <th>grade</th>\n",
       "      <th>sub_grade</th>\n",
       "      <th>...</th>\n",
       "      <th>num_tl_90g_dpd_24m</th>\n",
       "      <th>num_tl_op_past_12m</th>\n",
       "      <th>pct_tl_nvr_dlq</th>\n",
       "      <th>percent_bc_gt_75</th>\n",
       "      <th>pub_rec_bankruptcies</th>\n",
       "      <th>tax_liens</th>\n",
       "      <th>tot_hi_cred_lim</th>\n",
       "      <th>total_bal_ex_mort</th>\n",
       "      <th>total_bc_limit</th>\n",
       "      <th>total_il_high_credit_limit</th>\n",
       "    </tr>\n",
       "  </thead>\n",
       "  <tbody>\n",
       "    <tr>\n",
       "      <th>0</th>\n",
       "      <td>1077501</td>\n",
       "      <td>1296599</td>\n",
       "      <td>5000</td>\n",
       "      <td>5000</td>\n",
       "      <td>4975.0</td>\n",
       "      <td>36 months</td>\n",
       "      <td>10.65%</td>\n",
       "      <td>162.87</td>\n",
       "      <td>B</td>\n",
       "      <td>B2</td>\n",
       "      <td>...</td>\n",
       "      <td>NaN</td>\n",
       "      <td>NaN</td>\n",
       "      <td>NaN</td>\n",
       "      <td>NaN</td>\n",
       "      <td>0.0</td>\n",
       "      <td>0.0</td>\n",
       "      <td>NaN</td>\n",
       "      <td>NaN</td>\n",
       "      <td>NaN</td>\n",
       "      <td>NaN</td>\n",
       "    </tr>\n",
       "    <tr>\n",
       "      <th>1</th>\n",
       "      <td>1077430</td>\n",
       "      <td>1314167</td>\n",
       "      <td>2500</td>\n",
       "      <td>2500</td>\n",
       "      <td>2500.0</td>\n",
       "      <td>60 months</td>\n",
       "      <td>15.27%</td>\n",
       "      <td>59.83</td>\n",
       "      <td>C</td>\n",
       "      <td>C4</td>\n",
       "      <td>...</td>\n",
       "      <td>NaN</td>\n",
       "      <td>NaN</td>\n",
       "      <td>NaN</td>\n",
       "      <td>NaN</td>\n",
       "      <td>0.0</td>\n",
       "      <td>0.0</td>\n",
       "      <td>NaN</td>\n",
       "      <td>NaN</td>\n",
       "      <td>NaN</td>\n",
       "      <td>NaN</td>\n",
       "    </tr>\n",
       "    <tr>\n",
       "      <th>2</th>\n",
       "      <td>1077175</td>\n",
       "      <td>1313524</td>\n",
       "      <td>2400</td>\n",
       "      <td>2400</td>\n",
       "      <td>2400.0</td>\n",
       "      <td>36 months</td>\n",
       "      <td>15.96%</td>\n",
       "      <td>84.33</td>\n",
       "      <td>C</td>\n",
       "      <td>C5</td>\n",
       "      <td>...</td>\n",
       "      <td>NaN</td>\n",
       "      <td>NaN</td>\n",
       "      <td>NaN</td>\n",
       "      <td>NaN</td>\n",
       "      <td>0.0</td>\n",
       "      <td>0.0</td>\n",
       "      <td>NaN</td>\n",
       "      <td>NaN</td>\n",
       "      <td>NaN</td>\n",
       "      <td>NaN</td>\n",
       "    </tr>\n",
       "    <tr>\n",
       "      <th>3</th>\n",
       "      <td>1076863</td>\n",
       "      <td>1277178</td>\n",
       "      <td>10000</td>\n",
       "      <td>10000</td>\n",
       "      <td>10000.0</td>\n",
       "      <td>36 months</td>\n",
       "      <td>13.49%</td>\n",
       "      <td>339.31</td>\n",
       "      <td>C</td>\n",
       "      <td>C1</td>\n",
       "      <td>...</td>\n",
       "      <td>NaN</td>\n",
       "      <td>NaN</td>\n",
       "      <td>NaN</td>\n",
       "      <td>NaN</td>\n",
       "      <td>0.0</td>\n",
       "      <td>0.0</td>\n",
       "      <td>NaN</td>\n",
       "      <td>NaN</td>\n",
       "      <td>NaN</td>\n",
       "      <td>NaN</td>\n",
       "    </tr>\n",
       "    <tr>\n",
       "      <th>4</th>\n",
       "      <td>1075358</td>\n",
       "      <td>1311748</td>\n",
       "      <td>3000</td>\n",
       "      <td>3000</td>\n",
       "      <td>3000.0</td>\n",
       "      <td>60 months</td>\n",
       "      <td>12.69%</td>\n",
       "      <td>67.79</td>\n",
       "      <td>B</td>\n",
       "      <td>B5</td>\n",
       "      <td>...</td>\n",
       "      <td>NaN</td>\n",
       "      <td>NaN</td>\n",
       "      <td>NaN</td>\n",
       "      <td>NaN</td>\n",
       "      <td>0.0</td>\n",
       "      <td>0.0</td>\n",
       "      <td>NaN</td>\n",
       "      <td>NaN</td>\n",
       "      <td>NaN</td>\n",
       "      <td>NaN</td>\n",
       "    </tr>\n",
       "  </tbody>\n",
       "</table>\n",
       "<p>5 rows × 111 columns</p>\n",
       "</div>"
      ],
      "text/plain": [
       "        id  member_id  loan_amnt  funded_amnt  funded_amnt_inv        term  \\\n",
       "0  1077501    1296599       5000         5000           4975.0   36 months   \n",
       "1  1077430    1314167       2500         2500           2500.0   60 months   \n",
       "2  1077175    1313524       2400         2400           2400.0   36 months   \n",
       "3  1076863    1277178      10000        10000          10000.0   36 months   \n",
       "4  1075358    1311748       3000         3000           3000.0   60 months   \n",
       "\n",
       "  int_rate  installment grade sub_grade  ... num_tl_90g_dpd_24m  \\\n",
       "0   10.65%       162.87     B        B2  ...                NaN   \n",
       "1   15.27%        59.83     C        C4  ...                NaN   \n",
       "2   15.96%        84.33     C        C5  ...                NaN   \n",
       "3   13.49%       339.31     C        C1  ...                NaN   \n",
       "4   12.69%        67.79     B        B5  ...                NaN   \n",
       "\n",
       "  num_tl_op_past_12m pct_tl_nvr_dlq  percent_bc_gt_75 pub_rec_bankruptcies  \\\n",
       "0                NaN            NaN               NaN                  0.0   \n",
       "1                NaN            NaN               NaN                  0.0   \n",
       "2                NaN            NaN               NaN                  0.0   \n",
       "3                NaN            NaN               NaN                  0.0   \n",
       "4                NaN            NaN               NaN                  0.0   \n",
       "\n",
       "  tax_liens tot_hi_cred_lim total_bal_ex_mort total_bc_limit  \\\n",
       "0       0.0             NaN               NaN            NaN   \n",
       "1       0.0             NaN               NaN            NaN   \n",
       "2       0.0             NaN               NaN            NaN   \n",
       "3       0.0             NaN               NaN            NaN   \n",
       "4       0.0             NaN               NaN            NaN   \n",
       "\n",
       "  total_il_high_credit_limit  \n",
       "0                        NaN  \n",
       "1                        NaN  \n",
       "2                        NaN  \n",
       "3                        NaN  \n",
       "4                        NaN  \n",
       "\n",
       "[5 rows x 111 columns]"
      ]
     },
     "execution_count": 144,
     "metadata": {},
     "output_type": "execute_result"
    }
   ],
   "source": [
    "loandata = pd.read_csv('loan.csv')\n",
    "loandata.head()"
   ]
  },
  {
   "cell_type": "markdown",
   "id": "857ab49e",
   "metadata": {},
   "source": [
    "# 2. Data Filter and Cleaning"
   ]
  },
  {
   "cell_type": "markdown",
   "id": "ae974093",
   "metadata": {},
   "source": [
    "### 2(a). Remove columns containing either 75 % or more than 75 % Null Values"
   ]
  },
  {
   "cell_type": "code",
   "execution_count": 145,
   "id": "ba858cae",
   "metadata": {},
   "outputs": [
    {
     "data": {
      "text/html": [
       "<div>\n",
       "<style scoped>\n",
       "    .dataframe tbody tr th:only-of-type {\n",
       "        vertical-align: middle;\n",
       "    }\n",
       "\n",
       "    .dataframe tbody tr th {\n",
       "        vertical-align: top;\n",
       "    }\n",
       "\n",
       "    .dataframe thead th {\n",
       "        text-align: right;\n",
       "    }\n",
       "</style>\n",
       "<table border=\"1\" class=\"dataframe\">\n",
       "  <thead>\n",
       "    <tr style=\"text-align: right;\">\n",
       "      <th></th>\n",
       "      <th>id</th>\n",
       "      <th>member_id</th>\n",
       "      <th>loan_amnt</th>\n",
       "      <th>funded_amnt</th>\n",
       "      <th>funded_amnt_inv</th>\n",
       "      <th>term</th>\n",
       "      <th>int_rate</th>\n",
       "      <th>installment</th>\n",
       "      <th>grade</th>\n",
       "      <th>sub_grade</th>\n",
       "      <th>...</th>\n",
       "      <th>last_pymnt_amnt</th>\n",
       "      <th>last_credit_pull_d</th>\n",
       "      <th>collections_12_mths_ex_med</th>\n",
       "      <th>policy_code</th>\n",
       "      <th>application_type</th>\n",
       "      <th>acc_now_delinq</th>\n",
       "      <th>chargeoff_within_12_mths</th>\n",
       "      <th>delinq_amnt</th>\n",
       "      <th>pub_rec_bankruptcies</th>\n",
       "      <th>tax_liens</th>\n",
       "    </tr>\n",
       "  </thead>\n",
       "  <tbody>\n",
       "    <tr>\n",
       "      <th>0</th>\n",
       "      <td>1077501</td>\n",
       "      <td>1296599</td>\n",
       "      <td>5000</td>\n",
       "      <td>5000</td>\n",
       "      <td>4975.0</td>\n",
       "      <td>36 months</td>\n",
       "      <td>10.65%</td>\n",
       "      <td>162.87</td>\n",
       "      <td>B</td>\n",
       "      <td>B2</td>\n",
       "      <td>...</td>\n",
       "      <td>171.62</td>\n",
       "      <td>May-16</td>\n",
       "      <td>0.0</td>\n",
       "      <td>1</td>\n",
       "      <td>INDIVIDUAL</td>\n",
       "      <td>0</td>\n",
       "      <td>0.0</td>\n",
       "      <td>0</td>\n",
       "      <td>0.0</td>\n",
       "      <td>0.0</td>\n",
       "    </tr>\n",
       "    <tr>\n",
       "      <th>1</th>\n",
       "      <td>1077430</td>\n",
       "      <td>1314167</td>\n",
       "      <td>2500</td>\n",
       "      <td>2500</td>\n",
       "      <td>2500.0</td>\n",
       "      <td>60 months</td>\n",
       "      <td>15.27%</td>\n",
       "      <td>59.83</td>\n",
       "      <td>C</td>\n",
       "      <td>C4</td>\n",
       "      <td>...</td>\n",
       "      <td>119.66</td>\n",
       "      <td>Sep-13</td>\n",
       "      <td>0.0</td>\n",
       "      <td>1</td>\n",
       "      <td>INDIVIDUAL</td>\n",
       "      <td>0</td>\n",
       "      <td>0.0</td>\n",
       "      <td>0</td>\n",
       "      <td>0.0</td>\n",
       "      <td>0.0</td>\n",
       "    </tr>\n",
       "    <tr>\n",
       "      <th>2</th>\n",
       "      <td>1077175</td>\n",
       "      <td>1313524</td>\n",
       "      <td>2400</td>\n",
       "      <td>2400</td>\n",
       "      <td>2400.0</td>\n",
       "      <td>36 months</td>\n",
       "      <td>15.96%</td>\n",
       "      <td>84.33</td>\n",
       "      <td>C</td>\n",
       "      <td>C5</td>\n",
       "      <td>...</td>\n",
       "      <td>649.91</td>\n",
       "      <td>May-16</td>\n",
       "      <td>0.0</td>\n",
       "      <td>1</td>\n",
       "      <td>INDIVIDUAL</td>\n",
       "      <td>0</td>\n",
       "      <td>0.0</td>\n",
       "      <td>0</td>\n",
       "      <td>0.0</td>\n",
       "      <td>0.0</td>\n",
       "    </tr>\n",
       "    <tr>\n",
       "      <th>3</th>\n",
       "      <td>1076863</td>\n",
       "      <td>1277178</td>\n",
       "      <td>10000</td>\n",
       "      <td>10000</td>\n",
       "      <td>10000.0</td>\n",
       "      <td>36 months</td>\n",
       "      <td>13.49%</td>\n",
       "      <td>339.31</td>\n",
       "      <td>C</td>\n",
       "      <td>C1</td>\n",
       "      <td>...</td>\n",
       "      <td>357.48</td>\n",
       "      <td>Apr-16</td>\n",
       "      <td>0.0</td>\n",
       "      <td>1</td>\n",
       "      <td>INDIVIDUAL</td>\n",
       "      <td>0</td>\n",
       "      <td>0.0</td>\n",
       "      <td>0</td>\n",
       "      <td>0.0</td>\n",
       "      <td>0.0</td>\n",
       "    </tr>\n",
       "    <tr>\n",
       "      <th>4</th>\n",
       "      <td>1075358</td>\n",
       "      <td>1311748</td>\n",
       "      <td>3000</td>\n",
       "      <td>3000</td>\n",
       "      <td>3000.0</td>\n",
       "      <td>60 months</td>\n",
       "      <td>12.69%</td>\n",
       "      <td>67.79</td>\n",
       "      <td>B</td>\n",
       "      <td>B5</td>\n",
       "      <td>...</td>\n",
       "      <td>67.79</td>\n",
       "      <td>May-16</td>\n",
       "      <td>0.0</td>\n",
       "      <td>1</td>\n",
       "      <td>INDIVIDUAL</td>\n",
       "      <td>0</td>\n",
       "      <td>0.0</td>\n",
       "      <td>0</td>\n",
       "      <td>0.0</td>\n",
       "      <td>0.0</td>\n",
       "    </tr>\n",
       "  </tbody>\n",
       "</table>\n",
       "<p>5 rows × 55 columns</p>\n",
       "</div>"
      ],
      "text/plain": [
       "        id  member_id  loan_amnt  funded_amnt  funded_amnt_inv        term  \\\n",
       "0  1077501    1296599       5000         5000           4975.0   36 months   \n",
       "1  1077430    1314167       2500         2500           2500.0   60 months   \n",
       "2  1077175    1313524       2400         2400           2400.0   36 months   \n",
       "3  1076863    1277178      10000        10000          10000.0   36 months   \n",
       "4  1075358    1311748       3000         3000           3000.0   60 months   \n",
       "\n",
       "  int_rate  installment grade sub_grade  ... last_pymnt_amnt  \\\n",
       "0   10.65%       162.87     B        B2  ...          171.62   \n",
       "1   15.27%        59.83     C        C4  ...          119.66   \n",
       "2   15.96%        84.33     C        C5  ...          649.91   \n",
       "3   13.49%       339.31     C        C1  ...          357.48   \n",
       "4   12.69%        67.79     B        B5  ...           67.79   \n",
       "\n",
       "  last_credit_pull_d collections_12_mths_ex_med  policy_code application_type  \\\n",
       "0             May-16                        0.0            1       INDIVIDUAL   \n",
       "1             Sep-13                        0.0            1       INDIVIDUAL   \n",
       "2             May-16                        0.0            1       INDIVIDUAL   \n",
       "3             Apr-16                        0.0            1       INDIVIDUAL   \n",
       "4             May-16                        0.0            1       INDIVIDUAL   \n",
       "\n",
       "  acc_now_delinq chargeoff_within_12_mths delinq_amnt pub_rec_bankruptcies  \\\n",
       "0              0                      0.0           0                  0.0   \n",
       "1              0                      0.0           0                  0.0   \n",
       "2              0                      0.0           0                  0.0   \n",
       "3              0                      0.0           0                  0.0   \n",
       "4              0                      0.0           0                  0.0   \n",
       "\n",
       "  tax_liens  \n",
       "0       0.0  \n",
       "1       0.0  \n",
       "2       0.0  \n",
       "3       0.0  \n",
       "4       0.0  \n",
       "\n",
       "[5 rows x 55 columns]"
      ]
     },
     "execution_count": 145,
     "metadata": {},
     "output_type": "execute_result"
    }
   ],
   "source": [
    "loandata = loandata.loc[:, loandata.isnull().mean() < .75]\n",
    "loandata.head(5)"
   ]
  },
  {
   "cell_type": "markdown",
   "id": "f759ea11",
   "metadata": {},
   "source": [
    "### 2(b). List out the columns after dropping them"
   ]
  },
  {
   "cell_type": "code",
   "execution_count": 146,
   "id": "5a2e8d52",
   "metadata": {},
   "outputs": [
    {
     "data": {
      "text/plain": [
       "Index(['id', 'member_id', 'loan_amnt', 'funded_amnt', 'funded_amnt_inv',\n",
       "       'term', 'int_rate', 'installment', 'grade', 'sub_grade', 'emp_title',\n",
       "       'emp_length', 'home_ownership', 'annual_inc', 'verification_status',\n",
       "       'issue_d', 'loan_status', 'pymnt_plan', 'url', 'desc', 'purpose',\n",
       "       'title', 'zip_code', 'addr_state', 'dti', 'delinq_2yrs',\n",
       "       'earliest_cr_line', 'inq_last_6mths', 'mths_since_last_delinq',\n",
       "       'open_acc', 'pub_rec', 'revol_bal', 'revol_util', 'total_acc',\n",
       "       'initial_list_status', 'out_prncp', 'out_prncp_inv', 'total_pymnt',\n",
       "       'total_pymnt_inv', 'total_rec_prncp', 'total_rec_int',\n",
       "       'total_rec_late_fee', 'recoveries', 'collection_recovery_fee',\n",
       "       'last_pymnt_d', 'last_pymnt_amnt', 'last_credit_pull_d',\n",
       "       'collections_12_mths_ex_med', 'policy_code', 'application_type',\n",
       "       'acc_now_delinq', 'chargeoff_within_12_mths', 'delinq_amnt',\n",
       "       'pub_rec_bankruptcies', 'tax_liens'],\n",
       "      dtype='object')"
      ]
     },
     "execution_count": 146,
     "metadata": {},
     "output_type": "execute_result"
    }
   ],
   "source": [
    "loandata.columns      ###List out the columns after removing columns"
   ]
  },
  {
   "cell_type": "markdown",
   "id": "e4c290f3",
   "metadata": {},
   "source": [
    "### 2(c). Count the missing values from all the columns"
   ]
  },
  {
   "cell_type": "code",
   "execution_count": 147,
   "id": "dc3d7341",
   "metadata": {},
   "outputs": [
    {
     "data": {
      "text/plain": [
       "id                                0\n",
       "member_id                         0\n",
       "loan_amnt                         0\n",
       "funded_amnt                       0\n",
       "funded_amnt_inv                   0\n",
       "term                              0\n",
       "int_rate                          0\n",
       "installment                       0\n",
       "grade                             0\n",
       "sub_grade                         0\n",
       "emp_title                      2459\n",
       "emp_length                     1075\n",
       "home_ownership                    0\n",
       "annual_inc                        0\n",
       "verification_status               0\n",
       "issue_d                           0\n",
       "loan_status                       0\n",
       "pymnt_plan                        0\n",
       "url                               0\n",
       "desc                          12940\n",
       "purpose                           0\n",
       "title                            11\n",
       "zip_code                          0\n",
       "addr_state                        0\n",
       "dti                               0\n",
       "delinq_2yrs                       0\n",
       "earliest_cr_line                  0\n",
       "inq_last_6mths                    0\n",
       "mths_since_last_delinq        25682\n",
       "open_acc                          0\n",
       "pub_rec                           0\n",
       "revol_bal                         0\n",
       "revol_util                       50\n",
       "total_acc                         0\n",
       "initial_list_status               0\n",
       "out_prncp                         0\n",
       "out_prncp_inv                     0\n",
       "total_pymnt                       0\n",
       "total_pymnt_inv                   0\n",
       "total_rec_prncp                   0\n",
       "total_rec_int                     0\n",
       "total_rec_late_fee                0\n",
       "recoveries                        0\n",
       "collection_recovery_fee           0\n",
       "last_pymnt_d                     71\n",
       "last_pymnt_amnt                   0\n",
       "last_credit_pull_d                2\n",
       "collections_12_mths_ex_med       56\n",
       "policy_code                       0\n",
       "application_type                  0\n",
       "acc_now_delinq                    0\n",
       "chargeoff_within_12_mths         56\n",
       "delinq_amnt                       0\n",
       "pub_rec_bankruptcies            697\n",
       "tax_liens                        39\n",
       "dtype: int64"
      ]
     },
     "execution_count": 147,
     "metadata": {},
     "output_type": "execute_result"
    }
   ],
   "source": [
    "loanna = loandata.isnull().sum()    ### Find the sum of missing values from all the columns\n",
    "loanna"
   ]
  },
  {
   "cell_type": "markdown",
   "id": "1980143c",
   "metadata": {},
   "source": [
    "### 2(d). Display the bar chart of null values from the dataframe"
   ]
  },
  {
   "cell_type": "code",
   "execution_count": 148,
   "id": "5f662bd5",
   "metadata": {},
   "outputs": [
    {
     "data": {
      "text/plain": [
       "<AxesSubplot:>"
      ]
     },
     "execution_count": 148,
     "metadata": {},
     "output_type": "execute_result"
    },
    {
     "data": {
      "image/png": "[encoded data removed]",
      "text/plain": [
       "<Figure size 576x576 with 1 Axes>"
      ]
     },
     "metadata": {},
     "output_type": "display_data"
    }
   ],
   "source": [
    "loandata.isnull().sum()[loandata.isnull().sum() >0].plot(kind='barh')"
   ]
  },
  {
   "cell_type": "markdown",
   "id": "23918881",
   "metadata": {},
   "source": [
    "# 3. Fill the Null values and Manipulate the values in all columns"
   ]
  },
  {
   "cell_type": "markdown",
   "id": "f88c0423",
   "metadata": {},
   "source": [
    "### 3(a). Fill the null values in the columns"
   ]
  },
  {
   "cell_type": "code",
   "execution_count": 149,
   "id": "35e259e3",
   "metadata": {},
   "outputs": [],
   "source": [
    "loandata['emp_length'] = loandata['emp_length'].fillna('NA')\n",
    "loandata['desc'] = loandata['desc'].fillna('NA')"
   ]
  },
  {
   "cell_type": "markdown",
   "id": "d6eaf540",
   "metadata": {},
   "source": [
    "### 3(b). Fill the missing values with the observable/Relevant data"
   ]
  },
  {
   "cell_type": "code",
   "execution_count": 150,
   "id": "14d8d37f",
   "metadata": {},
   "outputs": [],
   "source": [
    "loandata['emp_title'] = loandata['emp_title'].fillna('other')\n",
    "loandata['title'] = loandata['title'].fillna('other')\n",
    "loandata['mths_since_last_delinq'] = loandata['mths_since_last_delinq'].fillna('0.0')\n",
    "loandata['collections_12_mths_ex_med'] = loandata['collections_12_mths_ex_med'].fillna('0.0')\n",
    "loandata['chargeoff_within_12_mths'] = loandata['chargeoff_within_12_mths'].fillna('0.0')\n",
    "loandata['revol_util'] = loandata['revol_util'].fillna('0%')\n",
    "loandata['pub_rec_bankruptcies'] = loandata['pub_rec_bankruptcies'].fillna('0.0')\n",
    "loandata['tax_liens'] = loandata['tax_liens'].fillna('0.0')"
   ]
  },
  {
   "cell_type": "markdown",
   "id": "751f06af",
   "metadata": {},
   "source": [
    "### 3(c). Remove left space and extra characters from the column values"
   ]
  },
  {
   "cell_type": "code",
   "execution_count": 151,
   "id": "506a8e24",
   "metadata": {},
   "outputs": [],
   "source": [
    "loandata['term'] = loandata['term'].apply(lambda x: x.lstrip())"
   ]
  },
  {
   "cell_type": "code",
   "execution_count": 152,
   "id": "a85b3521",
   "metadata": {},
   "outputs": [],
   "source": [
    "loandata['desc'] = loandata['desc'].apply(lambda x: x.lstrip())"
   ]
  },
  {
   "cell_type": "code",
   "execution_count": 153,
   "id": "6bc95330",
   "metadata": {},
   "outputs": [],
   "source": [
    "loandata['zip_code'] = loandata['zip_code'].apply(lambda x: x.rstrip('xx'))"
   ]
  },
  {
   "cell_type": "code",
   "execution_count": 253,
   "id": "22718fac",
   "metadata": {},
   "outputs": [],
   "source": [
    "loandata['int_rate'] = loandata['int_rate'].apply(lambda x: x.rstrip('%'))"
   ]
  },
  {
   "cell_type": "markdown",
   "id": "6542ac77",
   "metadata": {},
   "source": [
    "### 3(d). Fill the data in Date columns"
   ]
  },
  {
   "cell_type": "code",
   "execution_count": 161,
   "id": "2fcc56c7",
   "metadata": {},
   "outputs": [],
   "source": [
    "loandata['last_pymnt_d'] = loandata['last_pymnt_d'].add('-2023') ###Adding the year "
   ]
  },
  {
   "cell_type": "code",
   "execution_count": 162,
   "id": "7a180ace",
   "metadata": {},
   "outputs": [],
   "source": [
    "loandata['issue_d'] = loandata['issue_d'].add('-2023')   ###Adding the year"
   ]
  },
  {
   "cell_type": "markdown",
   "id": "409f132a",
   "metadata": {},
   "source": [
    "#### Apply the function Date for convertion"
   ]
  },
  {
   "cell_type": "code",
   "execution_count": 189,
   "id": "9b3e4bf1",
   "metadata": {},
   "outputs": [],
   "source": [
    "def convert_date(date_str): \n",
    "    parsed_date = datetime.strptime(str(date_str), '%b-%d-%Y') \n",
    "    formatted_date = parsed_date.strftime(\"%Y-%m-%d\") \n",
    "    return formatted_date"
   ]
  },
  {
   "cell_type": "code",
   "execution_count": 190,
   "id": "af822eb6",
   "metadata": {},
   "outputs": [
    {
     "data": {
      "text/plain": [
       "0        2023-01-15\n",
       "1        2023-04-13\n",
       "2        2023-06-14\n",
       "3        2023-01-15\n",
       "4        2023-05-16\n",
       "            ...    \n",
       "39712    2023-07-10\n",
       "39713    2023-07-10\n",
       "39714    2023-04-08\n",
       "39715    2023-01-08\n",
       "39716    2023-06-10\n",
       "Name: last_pymnt_d, Length: 39717, dtype: object"
      ]
     },
     "execution_count": 190,
     "metadata": {},
     "output_type": "execute_result"
    }
   ],
   "source": [
    "loandata['last_pymnt_d'] = loandata['last_pymnt_d'].apply(lambda x: convert_date(x))\n",
    "loandata['last_pymnt_d']"
   ]
  },
  {
   "cell_type": "code",
   "execution_count": 192,
   "id": "f416546d",
   "metadata": {
    "scrolled": true
   },
   "outputs": [
    {
     "data": {
      "text/plain": [
       "0        2023-12-11\n",
       "1        2023-12-11\n",
       "2        2023-12-11\n",
       "3        2023-12-11\n",
       "4        2023-12-11\n",
       "            ...    \n",
       "39712    2023-07-07\n",
       "39713    2023-07-07\n",
       "39714    2023-07-07\n",
       "39715    2023-07-07\n",
       "39716    2023-06-07\n",
       "Name: issue_d, Length: 39717, dtype: object"
      ]
     },
     "execution_count": 192,
     "metadata": {},
     "output_type": "execute_result"
    }
   ],
   "source": [
    "loandata['issue_d'] = loandata['issue_d'].apply(lambda x: convert_date(x))\n",
    "loandata['issue_d']"
   ]
  },
  {
   "cell_type": "markdown",
   "id": "8b49f9c4",
   "metadata": {},
   "source": [
    "#### Updating the 'earliest_cr_line' date format, which it have month-year and convert to year-month-date"
   ]
  },
  {
   "cell_type": "code",
   "execution_count": 214,
   "id": "d69a5850",
   "metadata": {},
   "outputs": [
    {
     "data": {
      "text/plain": [
       "39717"
      ]
     },
     "execution_count": 214,
     "metadata": {},
     "output_type": "execute_result"
    }
   ],
   "source": [
    "loandata['earliest_cr_line'].shape[0]"
   ]
  },
  {
   "cell_type": "markdown",
   "id": "6340a2fe",
   "metadata": {},
   "source": [
    "#### Adding Random days in a new column 'days'"
   ]
  },
  {
   "cell_type": "code",
   "execution_count": 215,
   "id": "dcc34dc8",
   "metadata": {},
   "outputs": [
    {
     "data": {
      "text/plain": [
       "39717"
      ]
     },
     "execution_count": 215,
     "metadata": {},
     "output_type": "execute_result"
    }
   ],
   "source": [
    "import numpy as np\n",
    "loandata['days'] = np.random.randint(1, 31, loandata['earliest_cr_line'].shape[0])\n",
    "loandata['days'].shape[0]"
   ]
  },
  {
   "cell_type": "code",
   "execution_count": 217,
   "id": "45ba98cd",
   "metadata": {},
   "outputs": [
    {
     "data": {
      "text/plain": [
       "array(['Jan-85-15', 'Apr-99-6', 'Nov-01-22', ..., 'Feb-85-21',\n",
       "       'Feb-69-19', 'Nov-88-2'], dtype=object)"
      ]
     },
     "execution_count": 217,
     "metadata": {},
     "output_type": "execute_result"
    }
   ],
   "source": [
    "loandata['earliestcr_format'] = loandata[['earliest_cr_line','days']].apply(lambda x: '-'.join(x.values.astype(str)), axis=1)\n",
    "loandata['earliestcr_format'].unique()"
   ]
  },
  {
   "cell_type": "markdown",
   "id": "b0acd64d",
   "metadata": {},
   "source": [
    "# 4. Filter the outlier and Filter it"
   ]
  },
  {
   "cell_type": "markdown",
   "id": "d08c4269",
   "metadata": {},
   "source": [
    "#### Create box plot and check Outlier for set of the columns and apply the inter-quartile range to detect the outliers and filter it"
   ]
  },
  {
   "cell_type": "code",
   "execution_count": 218,
   "id": "62894121",
   "metadata": {},
   "outputs": [],
   "source": [
    "sns.set(rc={\"figure.figsize\":(6, 4)})"
   ]
  },
  {
   "cell_type": "markdown",
   "id": "edddf78c",
   "metadata": {},
   "source": [
    "### 04(a). loan_amnt, funded_amnt, funded_amnt_inv"
   ]
  },
  {
   "cell_type": "code",
   "execution_count": 219,
   "id": "666046cb",
   "metadata": {},
   "outputs": [
    {
     "data": {
      "text/plain": [
       "<AxesSubplot:>"
      ]
     },
     "execution_count": 219,
     "metadata": {},
     "output_type": "execute_result"
    },
    {
     "data": {
      "image/png": "[encoded data removed]",
      "text/plain": [
       "<Figure size 432x288 with 1 Axes>"
      ]
     },
     "metadata": {},
     "output_type": "display_data"
    }
   ],
   "source": [
    "loandata.boxplot(column=['loan_amnt', 'funded_amnt', 'funded_amnt_inv'])"
   ]
  },
  {
   "cell_type": "markdown",
   "id": "8931372e",
   "metadata": {},
   "source": [
    "#### Filter the data with IQR (Interquartile range)"
   ]
  },
  {
   "cell_type": "code",
   "execution_count": 230,
   "id": "5a93b0f4",
   "metadata": {},
   "outputs": [],
   "source": [
    "Q1 = loandata['loan_amnt'].quantile(0.25)\n",
    "Q3 = loandata['loan_amnt'].quantile(0.75)\n",
    "IQR = Q3 - Q1    #IQR is interquartile range. \n",
    "\n",
    "filter = (loandata['loan_amnt'] >= Q1 - 1.5 * IQR) & (loan['loan_amnt'] <= Q3 + 1.5 *IQR)\n",
    "loandata = loandata.loc[filter] "
   ]
  },
  {
   "cell_type": "code",
   "execution_count": 231,
   "id": "1136d602",
   "metadata": {},
   "outputs": [],
   "source": [
    "Q1 = loandata['funded_amnt'].quantile(0.25)\n",
    "Q3 = loandata['funded_amnt'].quantile(0.75)\n",
    "IQR = Q3 - Q1    #IQR is interquartile range. \n",
    "\n",
    "filter = (loandata['funded_amnt'] >= Q1 - 1.5 * IQR) & (loandata['funded_amnt'] <= Q3 + 1.5 *IQR)\n",
    "loandata = loandata.loc[filter]"
   ]
  },
  {
   "cell_type": "code",
   "execution_count": 232,
   "id": "6bcd187c",
   "metadata": {},
   "outputs": [],
   "source": [
    "Q1 = loandata['funded_amnt_inv'].quantile(0.25)\n",
    "Q3 = loandata['funded_amnt_inv'].quantile(0.75)\n",
    "IQR = Q3 - Q1    #IQR is interquartile range. \n",
    "\n",
    "filter = (loandata['funded_amnt_inv'] >= Q1 - 1.5 * IQR) & (loandata['funded_amnt_inv'] <= Q3 + 1.5 *IQR)\n",
    "loandata = loandata.loc[filter]"
   ]
  },
  {
   "cell_type": "code",
   "execution_count": 233,
   "id": "f3b5189f",
   "metadata": {},
   "outputs": [
    {
     "data": {
      "text/plain": [
       "<AxesSubplot:>"
      ]
     },
     "execution_count": 233,
     "metadata": {},
     "output_type": "execute_result"
    },
    {
     "data": {
      "image/png": "[encoded data removed]",
      "text/plain": [
       "<Figure size 432x288 with 1 Axes>"
      ]
     },
     "metadata": {},
     "output_type": "display_data"
    }
   ],
   "source": [
    "loandata.boxplot(column=['loan_amnt', 'funded_amnt', 'funded_amnt_inv'], color=\"green\")"
   ]
  },
  {
   "cell_type": "markdown",
   "id": "483ad70d",
   "metadata": {},
   "source": [
    "#### 04(b). total_pymnt,      total_pymnt_inv,       total_rec_prncp,       total_rec_int,      last_pymnt_amnt"
   ]
  },
  {
   "cell_type": "code",
   "execution_count": 238,
   "id": "2ee015d8",
   "metadata": {},
   "outputs": [],
   "source": [
    "sns.set(rc={\"figure.figsize\":(9, 9)})"
   ]
  },
  {
   "cell_type": "code",
   "execution_count": 137,
   "id": "b22fc4b7",
   "metadata": {},
   "outputs": [
    {
     "data": {
      "text/plain": [
       "<AxesSubplot:>"
      ]
     },
     "execution_count": 137,
     "metadata": {},
     "output_type": "execute_result"
    },
    {
     "data": {
      "image/png": "[encoded data removed]",
      "text/plain": [
       "<Figure size 576x576 with 1 Axes>"
      ]
     },
     "metadata": {},
     "output_type": "display_data"
    }
   ],
   "source": [
    "loan.boxplot(column=['total_pymnt','total_pymnt_inv','total_rec_prncp','total_rec_int', 'last_pymnt_amnt'], color=\"green\")"
   ]
  },
  {
   "cell_type": "code",
   "execution_count": 241,
   "id": "66dce8a2",
   "metadata": {},
   "outputs": [],
   "source": [
    "Q1 = loandata['total_pymnt'].quantile(0.25)\n",
    "Q3 = loandata['total_pymnt'].quantile(0.75)\n",
    "IQR = Q3 - Q1    #IQR is interquartile range. \n",
    "\n",
    "filter = (loandata['total_pymnt'] >= Q1 - 1.5 * IQR) & (loandata['total_pymnt'] <= Q3 + 1.5 *IQR)\n",
    "loandata = loandata.loc[filter] "
   ]
  },
  {
   "cell_type": "code",
   "execution_count": 242,
   "id": "493bf8bf",
   "metadata": {},
   "outputs": [],
   "source": [
    "Q1 = loandata['total_pymnt_inv'].quantile(0.25)\n",
    "Q3 = loandata['total_pymnt_inv'].quantile(0.75)\n",
    "IQR = Q3 - Q1    #IQR is interquartile range. \n",
    "\n",
    "filter = (loandata['total_pymnt_inv'] >= Q1 - 1.5 * IQR) & (loandata['total_pymnt_inv'] <= Q3 + 1.5 *IQR)\n",
    "loandata = loandata.loc[filter] "
   ]
  },
  {
   "cell_type": "code",
   "execution_count": 243,
   "id": "fcb7a5c3",
   "metadata": {},
   "outputs": [],
   "source": [
    "Q1 = loandata['last_pymnt_amnt'].quantile(0.25)\n",
    "Q3 = loandata['last_pymnt_amnt'].quantile(0.75)\n",
    "IQR = Q3 - Q1    #IQR is interquartile range. \n",
    "\n",
    "filter = (loandata['last_pymnt_amnt'] >= Q1 - 1.5 * IQR) & (loandata['last_pymnt_amnt'] <= Q3 + 1.5 *IQR)\n",
    "loandata = loandata.loc[filter] "
   ]
  },
  {
   "cell_type": "code",
   "execution_count": 245,
   "id": "812e9772",
   "metadata": {},
   "outputs": [
    {
     "data": {
      "text/plain": [
       "<AxesSubplot:>"
      ]
     },
     "execution_count": 245,
     "metadata": {},
     "output_type": "execute_result"
    },
    {
     "data": {
      "image/png": "[encoded data removed]",
      "text/plain": [
       "<Figure size 648x648 with 1 Axes>"
      ]
     },
     "metadata": {},
     "output_type": "display_data"
    }
   ],
   "source": [
    "loandata.boxplot(column=['total_pymnt','total_pymnt_inv','total_rec_prncp','total_rec_int', 'last_pymnt_amnt'], color=\"blue\")"
   ]
  },
  {
   "cell_type": "markdown",
   "id": "c411ce2b",
   "metadata": {},
   "source": [
    "### 4(c). total_acc and open_acc"
   ]
  },
  {
   "cell_type": "code",
   "execution_count": 246,
   "id": "6fe7f529",
   "metadata": {},
   "outputs": [
    {
     "data": {
      "text/plain": [
       "<AxesSubplot:>"
      ]
     },
     "execution_count": 246,
     "metadata": {},
     "output_type": "execute_result"
    },
    {
     "data": {
      "image/png": "[encoded data removed]",
      "text/plain": [
       "<Figure size 648x648 with 1 Axes>"
      ]
     },
     "metadata": {},
     "output_type": "display_data"
    }
   ],
   "source": [
    "loandata.boxplot(column=['open_acc','total_acc'], color=\"green\")"
   ]
  },
  {
   "cell_type": "code",
   "execution_count": 247,
   "id": "30dd4876",
   "metadata": {},
   "outputs": [],
   "source": [
    "Q1 = loandata['open_acc'].quantile(0.25)\n",
    "Q3 = loandata['open_acc'].quantile(0.75)\n",
    "IQR = Q3 - Q1    #IQR is interquartile range. \n",
    "\n",
    "filter = (loandata['open_acc'] >= Q1 - 1.5 * IQR) & (loandata['open_acc'] <= Q3 + 1.5 *IQR)\n",
    "loandata = loandata.loc[filter] "
   ]
  },
  {
   "cell_type": "code",
   "execution_count": 248,
   "id": "d70f6e84",
   "metadata": {},
   "outputs": [],
   "source": [
    "Q1 = loandata['total_acc'].quantile(0.25)\n",
    "Q3 = loandata['total_acc'].quantile(0.75)\n",
    "IQR = Q3 - Q1    #IQR is interquartile range. \n",
    "\n",
    "filter = (loandata['total_acc'] >= Q1 - 1.5 * IQR) & (loandata['total_acc'] <= Q3 + 1.5 *IQR)\n",
    "loandata = loandata.loc[filter] "
   ]
  },
  {
   "cell_type": "code",
   "execution_count": 294,
   "id": "d51f2a82",
   "metadata": {},
   "outputs": [
    {
     "data": {
      "text/plain": [
       "<AxesSubplot:>"
      ]
     },
     "execution_count": 294,
     "metadata": {},
     "output_type": "execute_result"
    },
    {
     "data": {
      "image/png": "[encoded data removed]",
      "text/plain": [
       "<Figure size 360x360 with 1 Axes>"
      ]
     },
     "metadata": {},
     "output_type": "display_data"
    }
   ],
   "source": [
    "sns.set(rc={\"figure.figsize\":(5, 5)})\n",
    "loandata.boxplot(column=['open_acc','total_acc'], color=\"blue\")"
   ]
  },
  {
   "cell_type": "markdown",
   "id": "ad5f6216",
   "metadata": {},
   "source": [
    "."
   ]
  },
  {
   "cell_type": "markdown",
   "id": "4cf024ed",
   "metadata": {},
   "source": [
    "#  5. Data Analysis"
   ]
  },
  {
   "cell_type": "markdown",
   "id": "e49936da",
   "metadata": {},
   "source": [
    "."
   ]
  },
  {
   "cell_type": "markdown",
   "id": "668e2619",
   "metadata": {},
   "source": [
    "### 5(a). Derived Metrics"
   ]
  },
  {
   "cell_type": "code",
   "execution_count": 318,
   "id": "e76f43f8",
   "metadata": {},
   "outputs": [
    {
     "data": {
      "text/plain": [
       "0    0.208333\n",
       "1    0.083333\n",
       "3    0.203252\n",
       "4    0.037500\n",
       "5    0.138889\n",
       "7    0.062500\n",
       "8    0.140000\n",
       "9    0.358333\n",
       "Name: loan_inc_ratio, dtype: float64"
      ]
     },
     "execution_count": 318,
     "metadata": {},
     "output_type": "execute_result"
    }
   ],
   "source": [
    "loandata['loan_inc_ratio'] = loandata['loan_amnt']/loandata['annual_inc']\n",
    "loandata['loan_inc_ratio'].head(8)"
   ]
  },
  {
   "cell_type": "markdown",
   "id": "12ac2236",
   "metadata": {},
   "source": [
    "### 5(b). Categorical Variables"
   ]
  },
  {
   "cell_type": "markdown",
   "id": "1357e90d",
   "metadata": {},
   "source": [
    "#### Loan Status"
   ]
  },
  {
   "cell_type": "code",
   "execution_count": 295,
   "id": "85d519a9",
   "metadata": {},
   "outputs": [
    {
     "name": "stderr",
     "output_type": "stream",
     "text": [
      "C:\\Program Files\\Anaconda3\\lib\\site-packages\\seaborn\\_decorators.py:36: FutureWarning: Pass the following variable as a keyword arg: x. From version 0.12, the only valid positional argument will be `data`, and passing other arguments without an explicit keyword will result in an error or misinterpretation.\n",
      "  warnings.warn(\n"
     ]
    },
    {
     "data": {
      "text/plain": [
       "<AxesSubplot:xlabel='loan_status', ylabel='count'>"
      ]
     },
     "execution_count": 295,
     "metadata": {},
     "output_type": "execute_result"
    },
    {
     "data": {
      "image/png": "[encoded data removed]",
      "text/plain": [
       "<Figure size 360x360 with 1 Axes>"
      ]
     },
     "metadata": {},
     "output_type": "display_data"
    }
   ],
   "source": [
    "sns.set_theme(style=\"whitegrid\")  \n",
    "sns.countplot(loandata['loan_status'])"
   ]
  },
  {
   "cell_type": "markdown",
   "id": "b7e2b7f4",
   "metadata": {},
   "source": [
    "#### Loan Term with 'Loan Status'"
   ]
  },
  {
   "cell_type": "code",
   "execution_count": 302,
   "id": "e215a88e",
   "metadata": {},
   "outputs": [
    {
     "name": "stderr",
     "output_type": "stream",
     "text": [
      "C:\\Program Files\\Anaconda3\\lib\\site-packages\\seaborn\\_decorators.py:36: FutureWarning: Pass the following variable as a keyword arg: x. From version 0.12, the only valid positional argument will be `data`, and passing other arguments without an explicit keyword will result in an error or misinterpretation.\n",
      "  warnings.warn(\n"
     ]
    },
    {
     "data": {
      "text/plain": [
       "<AxesSubplot:xlabel='term', ylabel='count'>"
      ]
     },
     "execution_count": 302,
     "metadata": {},
     "output_type": "execute_result"
    },
    {
     "data": {
      "image/png": "[encoded data removed]",
      "text/plain": [
       "<Figure size 360x360 with 1 Axes>"
      ]
     },
     "metadata": {},
     "output_type": "display_data"
    }
   ],
   "source": [
    "sns.countplot(loandata['term'],hue=loandata['loan_status'])"
   ]
  },
  {
   "cell_type": "markdown",
   "id": "212bf6a5",
   "metadata": {},
   "source": [
    "#  5(c). Correlation from the dataframe"
   ]
  },
  {
   "cell_type": "markdown",
   "id": "9f5f13a5",
   "metadata": {},
   "source": [
    "#### correlation 'loan_amnt', 'funded_amnt', 'funded_amnt_inv'"
   ]
  },
  {
   "cell_type": "code",
   "execution_count": 296,
   "id": "90e05c2c",
   "metadata": {},
   "outputs": [],
   "source": [
    "datcorla = loandata[['loan_amnt', 'funded_amnt', 'funded_amnt_inv']]"
   ]
  },
  {
   "cell_type": "code",
   "execution_count": 297,
   "id": "b07e1806",
   "metadata": {},
   "outputs": [
    {
     "data": {
      "text/plain": [
       "<AxesSubplot:>"
      ]
     },
     "execution_count": 297,
     "metadata": {},
     "output_type": "execute_result"
    },
    {
     "data": {
      "image/png": "[encoded data removed]",
      "text/plain": [
       "<Figure size 360x360 with 2 Axes>"
      ]
     },
     "metadata": {},
     "output_type": "display_data"
    }
   ],
   "source": [
    "sns.heatmap(datcorla.corr(), cmap=\"YlGnBu\", annot=True)"
   ]
  },
  {
   "cell_type": "markdown",
   "id": "a8e087e0",
   "metadata": {},
   "source": [
    "#### correlation from 'total_pymnt','total_pymnt_inv','total_rec_prncp','total_rec_int', 'last_pymnt_amnt'"
   ]
  },
  {
   "cell_type": "code",
   "execution_count": 298,
   "id": "5c28f00f",
   "metadata": {},
   "outputs": [],
   "source": [
    "datcorlb = loandata[['total_pymnt','total_pymnt_inv','total_rec_prncp','total_rec_int', 'last_pymnt_amnt']]"
   ]
  },
  {
   "cell_type": "code",
   "execution_count": 299,
   "id": "baffe3cf",
   "metadata": {},
   "outputs": [
    {
     "data": {
      "text/plain": [
       "<AxesSubplot:>"
      ]
     },
     "execution_count": 299,
     "metadata": {},
     "output_type": "execute_result"
    },
    {
     "data": {
      "image/png": "[encoded data removed]",
      "text/plain": [
       "<Figure size 360x360 with 2 Axes>"
      ]
     },
     "metadata": {},
     "output_type": "display_data"
    }
   ],
   "source": [
    "sns.heatmap(datcorlb.corr(), annot=True, linewidth=.5)"
   ]
  },
  {
   "cell_type": "markdown",
   "id": "30080bfe",
   "metadata": {},
   "source": [
    "#### Loan amount applied by member living in own or rent and analysing with funded amount & annual income (Risk analisys)"
   ]
  },
  {
   "cell_type": "code",
   "execution_count": 307,
   "id": "7e34b14f",
   "metadata": {},
   "outputs": [
    {
     "data": {
      "text/html": [
       "<div>\n",
       "<style scoped>\n",
       "    .dataframe tbody tr th:only-of-type {\n",
       "        vertical-align: middle;\n",
       "    }\n",
       "\n",
       "    .dataframe tbody tr th {\n",
       "        vertical-align: top;\n",
       "    }\n",
       "\n",
       "    .dataframe thead th {\n",
       "        text-align: right;\n",
       "    }\n",
       "</style>\n",
       "<table border=\"1\" class=\"dataframe\">\n",
       "  <thead>\n",
       "    <tr style=\"text-align: right;\">\n",
       "      <th></th>\n",
       "      <th></th>\n",
       "      <th>funded_amnt</th>\n",
       "      <th>annual_inc</th>\n",
       "    </tr>\n",
       "    <tr>\n",
       "      <th>home_ownership</th>\n",
       "      <th>loan_amnt</th>\n",
       "      <th></th>\n",
       "      <th></th>\n",
       "    </tr>\n",
       "  </thead>\n",
       "  <tbody>\n",
       "    <tr>\n",
       "      <th rowspan=\"5\" valign=\"top\">MORTGAGE</th>\n",
       "      <th>500</th>\n",
       "      <td>500.000000</td>\n",
       "      <td>30968.013333</td>\n",
       "    </tr>\n",
       "    <tr>\n",
       "      <th>800</th>\n",
       "      <td>800.000000</td>\n",
       "      <td>35000.000000</td>\n",
       "    </tr>\n",
       "    <tr>\n",
       "      <th>1000</th>\n",
       "      <td>1000.000000</td>\n",
       "      <td>58087.648649</td>\n",
       "    </tr>\n",
       "    <tr>\n",
       "      <th>1050</th>\n",
       "      <td>1050.000000</td>\n",
       "      <td>31200.000000</td>\n",
       "    </tr>\n",
       "    <tr>\n",
       "      <th>1100</th>\n",
       "      <td>1100.000000</td>\n",
       "      <td>36000.000000</td>\n",
       "    </tr>\n",
       "    <tr>\n",
       "      <th>...</th>\n",
       "      <th>...</th>\n",
       "      <td>...</td>\n",
       "      <td>...</td>\n",
       "    </tr>\n",
       "    <tr>\n",
       "      <th rowspan=\"5\" valign=\"top\">RENT</th>\n",
       "      <th>16750</th>\n",
       "      <td>11600.000000</td>\n",
       "      <td>39000.000000</td>\n",
       "    </tr>\n",
       "    <tr>\n",
       "      <th>16775</th>\n",
       "      <td>9275.000000</td>\n",
       "      <td>83000.000000</td>\n",
       "    </tr>\n",
       "    <tr>\n",
       "      <th>16800</th>\n",
       "      <td>10775.000000</td>\n",
       "      <td>60000.000000</td>\n",
       "    </tr>\n",
       "    <tr>\n",
       "      <th>17000</th>\n",
       "      <td>10987.500000</td>\n",
       "      <td>62500.000000</td>\n",
       "    </tr>\n",
       "    <tr>\n",
       "      <th>17500</th>\n",
       "      <td>11808.333333</td>\n",
       "      <td>53600.000000</td>\n",
       "    </tr>\n",
       "  </tbody>\n",
       "</table>\n",
       "<p>949 rows × 2 columns</p>\n",
       "</div>"
      ],
      "text/plain": [
       "                           funded_amnt    annual_inc\n",
       "home_ownership loan_amnt                            \n",
       "MORTGAGE       500          500.000000  30968.013333\n",
       "               800          800.000000  35000.000000\n",
       "               1000        1000.000000  58087.648649\n",
       "               1050        1050.000000  31200.000000\n",
       "               1100        1100.000000  36000.000000\n",
       "...                                ...           ...\n",
       "RENT           16750      11600.000000  39000.000000\n",
       "               16775       9275.000000  83000.000000\n",
       "               16800      10775.000000  60000.000000\n",
       "               17000      10987.500000  62500.000000\n",
       "               17500      11808.333333  53600.000000\n",
       "\n",
       "[949 rows x 2 columns]"
      ]
     },
     "execution_count": 307,
     "metadata": {},
     "output_type": "execute_result"
    }
   ],
   "source": [
    "df = loandata.groupby(by=['home_ownership','loan_amnt']).mean()\n",
    "df1 = df[['funded_amnt','annual_inc']]\n",
    "df1"
   ]
  },
  {
   "cell_type": "markdown",
   "id": "d26d4dda",
   "metadata": {},
   "source": [
    "#### Heat map for risk analysis corelation between laon_amnt, funded_amnt and anual_inc"
   ]
  },
  {
   "cell_type": "code",
   "execution_count": 312,
   "id": "1e2628c7",
   "metadata": {},
   "outputs": [],
   "source": [
    "risk = loandata[['loan_amnt','funded_amnt','annual_inc']]"
   ]
  },
  {
   "cell_type": "code",
   "execution_count": 313,
   "id": "dd438dc1",
   "metadata": {},
   "outputs": [
    {
     "data": {
      "text/plain": [
       "<AxesSubplot:>"
      ]
     },
     "execution_count": 313,
     "metadata": {},
     "output_type": "execute_result"
    },
    {
     "data": {
      "image/png": "[encoded data removed]",
      "text/plain": [
       "<Figure size 360x360 with 2 Axes>"
      ]
     },
     "metadata": {},
     "output_type": "display_data"
    }
   ],
   "source": [
    "sns.heatmap(risk.corr(), annot=True, linewidth=.5)"
   ]
  },
  {
   "cell_type": "code",
   "execution_count": null,
   "id": "82c8abd1",
   "metadata": {},
   "outputs": [],
   "source": []
  }
 ],
 "metadata": {
  "kernelspec": {
   "display_name": "Python 3 (ipykernel)",
   "language": "python",
   "name": "python3"
  },
  "language_info": {
   "codemirror_mode": {
    "name": "ipython",
    "version": 3
   },
   "file_extension": ".py",
   "mimetype": "text/x-python",
   "name": "python",
   "nbconvert_exporter": "python",
   "pygments_lexer": "ipython3",
   "version": "3.9.7"
  }
 },
 "nbformat": 4,
 "nbformat_minor": 5
}
